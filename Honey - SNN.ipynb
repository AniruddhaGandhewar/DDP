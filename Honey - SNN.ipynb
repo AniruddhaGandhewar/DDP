{
 "cells": [
  {
   "cell_type": "code",
   "execution_count": 1,
   "metadata": {},
   "outputs": [],
   "source": [
    "# IMPORT REQUIRED LIBRARIES\n",
    "\n",
    "%matplotlib inline\n",
    "import os\n",
    "import random\n",
    "import wandb\n",
    "\n",
    "import numpy as np\n",
    "import pandas as pd\n",
    "import matplotlib.pyplot as plt\n",
    "\n",
    "import torch\n",
    "import torch.nn as nn\n",
    "import torch.nn.functional as F\n",
    "import torchvision\n",
    "import torchvision.transforms as transforms\n",
    "import torchvision.utils\n",
    "\n",
    "from torch import optim\n",
    "from torch.utils.data import DataLoader, Dataset\n",
    "from torch.autograd import Variable\n",
    "\n",
    "from sklearn.decomposition import PCA\n",
    "\n",
    "from tqdm.notebook import tqdm"
   ]
  },
  {
   "cell_type": "code",
   "execution_count": 2,
   "metadata": {},
   "outputs": [],
   "source": [
    "if torch.cuda.is_available():\n",
    "    DEVICE = torch.device('cuda')\n",
    "else:\n",
    "    DEVICE = torch.device('cpu')"
   ]
  },
  {
   "cell_type": "code",
   "execution_count": 3,
   "metadata": {},
   "outputs": [],
   "source": [
    "train_path = \"C:\\\\Users\\\\argan\\\\OneDrive\\\\Desktop\\\\DDP\\\\Data\\\\AugmentedNIRS.csv\"\n",
    "val_path = \"C:\\\\Users\\\\argan\\\\OneDrive\\\\Desktop\\\\DDP\\\\Data\\\\nirs_val.csv\""
   ]
  },
  {
   "cell_type": "code",
   "execution_count": 4,
   "metadata": {},
   "outputs": [],
   "source": [
    "train_df = pd.read_csv(train_path, header=0, index_col=0)\n",
    "\n",
    "n_samples, n_features = train_df.shape\n",
    "\n",
    "labels = []\n",
    "for i in range(n_samples):\n",
    "    if train_df[\"labels\"][i] == 'pure':\n",
    "        labels.append('pure')\n",
    "    else:\n",
    "        labels.append('adult')\n",
    "\n",
    "train_df['labels_2'] = labels\n",
    "train_df.drop(labels=\"labels\", axis=1, inplace=True)"
   ]
  },
  {
   "attachments": {},
   "cell_type": "markdown",
   "metadata": {},
   "source": [
    "### Siamese Dataset"
   ]
  },
  {
   "cell_type": "code",
   "execution_count": 5,
   "metadata": {},
   "outputs": [],
   "source": [
    "class SiameseNetworkDataset(Dataset):\n",
    "    def __init__(self, path, transform=None):\n",
    "        data = pd.read_csv(path, header=0, index_col=0)\n",
    "\n",
    "        # Pairs of pure samples (positive pairs).\n",
    "        pure_data = data[data['labels']=='pure']\n",
    "        \n",
    "        positive_indices = pure_data.index\n",
    "        positive_pairs = []\n",
    "\n",
    "        for i in range(len(pure_data)-1):\n",
    "            for j in range(i+1, len(pure_data)):\n",
    "                positive_pairs.append([positive_indices[i], positive_indices[j]])\n",
    "\n",
    "\n",
    "        # Pairs of pure and adulterated samples each (negative pairs)\n",
    "        adult_data = data[data['labels'] != 'pure']\n",
    "\n",
    "        negative_indices = adult_data.index\n",
    "        negative_pairs = []\n",
    "\n",
    "        for i in range(len(pure_data)):\n",
    "            for j in range(len(adult_data)):\n",
    "                negative_pairs.append([positive_indices[i], negative_indices[j]])\n",
    "\n",
    "        self.data = data\n",
    "\n",
    "        self.positive_pairs = positive_pairs\n",
    "        self.num_positive = len(positive_pairs)\n",
    "\n",
    "        self.negative_pairs = negative_pairs\n",
    "        self.num_negative = len(negative_pairs)\n",
    "        \n",
    "        self.transform = transform\n",
    "        \n",
    "    def __getitem__(self, index):\n",
    "        label = np.random.randint(2)\n",
    "\n",
    "        if label == 0:\n",
    "            idxA, idxB = self.positive_pairs[np.random.choice(self.num_positive)]\n",
    "        else:\n",
    "            idxA, idxB = self.negative_pairs[np.random.choice(self.num_negative)]\n",
    "\n",
    "        nirsA = self.data.iloc[idxA, :-1].values.reshape(1, -1)\n",
    "        nirsB = self.data.iloc[idxB, :-1].values.reshape(1, -1)\n",
    "        \n",
    "        if self.transform is not None:\n",
    "            nirsA = self.transform(nirsA)\n",
    "            nirsB = self.transform(nirsB)\n",
    "\n",
    "        pair_nirs = np.concatenate([nirsA, nirsB], axis=0)\n",
    "\n",
    "        return (pair_nirs).astype(float), label\n",
    "        \n",
    "    def __len__(self):\n",
    "        return min(self.num_negative+self.num_positive, 10000)"
   ]
  },
  {
   "attachments": {},
   "cell_type": "markdown",
   "metadata": {},
   "source": [
    "### Siamese Neural Network"
   ]
  },
  {
   "cell_type": "code",
   "execution_count": 12,
   "metadata": {},
   "outputs": [],
   "source": [
    "class SiameseNetwork(nn.Module):\n",
    "    def __init__(self, \n",
    "                 num_ft_maps_1=8, \n",
    "                 num_ft_maps_2=16,\n",
    "                 num_ft_maps_3=16, \n",
    "                 num_ft_maps_4=32, \n",
    "                 fc_hd_1=32,\n",
    "                 out_features=16,\n",
    "                ):\n",
    "                 \n",
    "        super(SiameseNetwork, self).__init__()\n",
    "\n",
    "        self.backbone = nn.Sequential(\n",
    "                                      nn.Conv1d(in_channels=1, \n",
    "                                                out_channels=num_ft_maps_1, \n",
    "                                                kernel_size=3, \n",
    "                                                stride=1,\n",
    "                                                padding='same', \n",
    "                                                bias=True),\n",
    "                                      nn.ReLU(),\n",
    "\n",
    "                                      nn.MaxPool1d(kernel_size=3, stride=2),\n",
    "\n",
    "                                     \n",
    "                                      nn.Conv1d(in_channels=num_ft_maps_1, \n",
    "                                                out_channels=num_ft_maps_3, \n",
    "                                                kernel_size=3, \n",
    "                                                stride=1,\n",
    "                                                padding='same', \n",
    "                                                bias=True\n",
    "                                                ),\n",
    "                                      nn.ReLU(),\n",
    "                                      nn.MaxPool1d(kernel_size=3, stride=2),\n",
    "\n",
    "\n",
    "                                      nn.Conv1d(in_channels=num_ft_maps_3, \n",
    "                                                out_channels=num_ft_maps_4, \n",
    "                                                kernel_size=3, \n",
    "                                                stride=1,\n",
    "                                                padding='same', \n",
    "                                                bias=True),\n",
    "                                      nn.ReLU(),\n",
    "                                      nn.AvgPool1d(kernel_size=7, stride=7),\n",
    "                                     )\n",
    "\n",
    "        self.flatten = nn.Flatten()\n",
    "\n",
    "        self.fcc = nn.Sequential(\n",
    "                                 nn.Linear(24*32, fc_hd_1, bias=True),\n",
    "                                 nn.ReLU(),\n",
    "\n",
    "                                 nn.Linear(fc_hd_1, out_features, bias=True),\n",
    "                                )\n",
    "        \n",
    "        self.clf = nn.Sequential(\n",
    "                                 nn.Linear(out_features, 1, bias=True),\n",
    "                                 nn.Sigmoid()\n",
    "                                )\n",
    "\n",
    "    def forward(self, x):\n",
    "        # x - [BATCH_SIZE, 2, N]\n",
    "                \n",
    "        output1 = self.backbone(torch.unsqueeze(x[:, 0, :].float(), 1))\n",
    "        output2 = self.backbone(torch.unsqueeze(x[:, 1, :].float(), 1))\n",
    "\n",
    "        output1 = self.flatten(output1)\n",
    "        output2 = self.flatten(output2)\n",
    "\n",
    "        output1 = self.fcc(output1)\n",
    "        output2 = self.fcc(output2)\n",
    "\n",
    "        output = torch.pow(output1-output2, exponent=2)\n",
    "        output = self.clf(output)\n",
    "\n",
    "        return output"
   ]
  },
  {
   "attachments": {},
   "cell_type": "markdown",
   "metadata": {},
   "source": [
    "### Train-Test"
   ]
  },
  {
   "cell_type": "code",
   "execution_count": 7,
   "metadata": {},
   "outputs": [],
   "source": [
    "def train_test(model, num_epochs, train_loader, val_loader, optimizer, criterion, logger):\n",
    "    batch_loss = []\n",
    "    batch_accuracy = []\n",
    "\n",
    "    val_loss = []\n",
    "    val_accuracy = []\n",
    "\n",
    "    for epoch in range(num_epochs):\n",
    "        for i, ex in enumerate(tqdm(train_loader, desc=\"Training\")):\n",
    "            \n",
    "            nirs = ex[0].to(DEVICE)\n",
    "            labels = ex[1].to(torch.float).to(DEVICE)\n",
    "\n",
    "            batch_size = labels.size(0)\n",
    "            \n",
    "            model.train()\n",
    "            \n",
    "            # ===================forward=====================\n",
    "            \n",
    "            output = model(x=nirs)\n",
    "            \n",
    "            loss = criterion(output.view(batch_size, -1), \n",
    "                             labels.view(batch_size, -1)\n",
    "                            )\n",
    "\n",
    "            output_labels = torch.round(output)\n",
    "            accuracy = (output_labels.squeeze() == labels.squeeze()).sum().item()/batch_size\n",
    "\n",
    "            logger.log({\"batch_loss\": loss.item(), \"batch_accuracy\": accuracy})\n",
    "\n",
    "            batch_loss.append(loss.item())\n",
    "            batch_accuracy.append(accuracy)\n",
    "            \n",
    "            # ===================backward====================\n",
    "            \n",
    "            loss.backward()\n",
    "            optimizer.step()\n",
    "            optimizer.zero_grad()\n",
    "            \n",
    "                    \n",
    "        # ===================evaluate========================\n",
    "        \n",
    "        model.eval()\n",
    "\n",
    "        # Evaluating model on validation dataset\n",
    "        correct = 0\n",
    "        total = 0\n",
    "        val_batch_loss = []\n",
    "        with torch.no_grad():\n",
    "            for val_ex in val_loader:            \n",
    "                nirs_val = val_ex[0].to(DEVICE)\n",
    "                labels_val = val_ex[1].to(torch.float).to(DEVICE)\n",
    "                \n",
    "                output_val = model(x=nirs_val)\n",
    "\n",
    "                batch_size = labels_val.size(0)\n",
    "                \n",
    "                val_batch_loss_ = criterion(output_val.view(batch_size, -1), \n",
    "                                            labels_val.view(batch_size, -1)\n",
    "                                           )\n",
    "                val_batch_loss.append(val_batch_loss_.item())\n",
    "\n",
    "                output_val_labels = torch.round(output_val)\n",
    "                correct += (output_val_labels.squeeze() == labels_val.squeeze()).sum().item()\n",
    "                total += batch_size\n",
    "\n",
    "        val_accuracy_ = correct/total\n",
    "        val_loss_ = np.mean(val_batch_loss)\n",
    "        val_loss.append(val_loss_)\n",
    "        val_accuracy.append(val_accuracy_)\n",
    "        logger.log({\"val_loss\": val_loss_.item(), \"val_accuracy\": val_accuracy_})\n",
    "        \n",
    "        # ===================log========================\n",
    "\n",
    "        print(\"*\"*50)\n",
    "        print(f\"End of Epoch {epoch+1}\")\n",
    "        print(f'Validation Loss:{round(val_loss_, 4)}')\n",
    "        print(f'Validation Accuracy:{round(val_accuracy_, 4)}')\n",
    "        \n",
    "    return batch_loss, val_loss"
   ]
  },
  {
   "cell_type": "code",
   "execution_count": 8,
   "metadata": {},
   "outputs": [],
   "source": [
    "# Fix the random seeds\n",
    "SEED = 0\n",
    "\n",
    "random.seed(SEED)\n",
    "np.random.seed(SEED)\n",
    "torch.manual_seed(SEED)\n",
    "torch.cuda.manual_seed_all(SEED)"
   ]
  },
  {
   "cell_type": "code",
   "execution_count": 13,
   "metadata": {},
   "outputs": [],
   "source": [
    "BATCH_SIZE = 64\n",
    "\n",
    "train_dataset = SiameseNetworkDataset(train_path, transform=None)\n",
    "val_dataset = SiameseNetworkDataset(val_path, transform=None)\n",
    "\n",
    "train_loader = DataLoader(train_dataset, batch_size=BATCH_SIZE)\n",
    "val_loader = DataLoader(val_dataset, batch_size=BATCH_SIZE)\n",
    "\n",
    "siamese_net = SiameseNetwork()\n",
    "\n",
    "siamese_net.to(DEVICE)\n",
    "\n",
    "optimizer = torch.optim.Adam(siamese_net.parameters(), lr=1e-3)\n",
    "\n",
    "criterion = nn.BCELoss()"
   ]
  },
  {
   "cell_type": "code",
   "execution_count": 14,
   "metadata": {},
   "outputs": [
    {
     "data": {
      "text/html": [
       "Finishing last run (ID:2qa8nmv3) before initializing another..."
      ],
      "text/plain": [
       "<IPython.core.display.HTML object>"
      ]
     },
     "metadata": {},
     "output_type": "display_data"
    },
    {
     "data": {
      "text/html": [
       "Waiting for W&B process to finish... <strong style=\"color:green\">(success).</strong>"
      ],
      "text/plain": [
       "<IPython.core.display.HTML object>"
      ]
     },
     "metadata": {},
     "output_type": "display_data"
    },
    {
     "data": {
      "application/vnd.jupyter.widget-view+json": {
       "model_id": "75589ad19f1e4fa09dd7faba26da1809",
       "version_major": 2,
       "version_minor": 0
      },
      "text/plain": [
       "VBox(children=(Label(value='0.001 MB of 0.001 MB uploaded (0.000 MB deduped)\\r'), FloatProgress(value=1.0, max…"
      ]
     },
     "metadata": {},
     "output_type": "display_data"
    },
    {
     "data": {
      "text/html": [
       "<style>\n",
       "    table.wandb td:nth-child(1) { padding: 0 10px; text-align: left ; width: auto;} td:nth-child(2) {text-align: left ; width: 100%}\n",
       "    .wandb-row { display: flex; flex-direction: row; flex-wrap: wrap; justify-content: flex-start; width: 100% }\n",
       "    .wandb-col { display: flex; flex-direction: column; flex-basis: 100%; flex: 1; padding: 10px; }\n",
       "    </style>\n",
       "<div class=\"wandb-row\"><div class=\"wandb-col\"><h3>Run history:</h3><br/><table class=\"wandb\"><tr><td>batch_accuracy</td><td>▂▇▅▂▄▁▅▃▄▅▃▃▃▂▅▂▃▄▆▆▆▆▃▄▃▄▅▂▂█▃▁▆▂▄▃▄▆▂▇</td></tr><tr><td>batch_loss</td><td>█▁▄▇▅█▄▆▅▅▅▅▅▅▅▅▅▅▅▅▅▅▅▅▅▅▅▅▅▅▅▅▅▆▅▆▅▅▅▅</td></tr><tr><td>val_accuracy</td><td>▇▇▅▂█▆▁</td></tr><tr><td>val_loss</td><td>▂▁▆█▂▂▆</td></tr></table><br/></div><div class=\"wandb-col\"><h3>Run summary:</h3><br/><table class=\"wandb\"><tr><td>batch_accuracy</td><td>0.46875</td></tr><tr><td>batch_loss</td><td>0.66653</td></tr><tr><td>val_accuracy</td><td>0.48428</td></tr><tr><td>val_loss</td><td>0.69316</td></tr></table><br/></div></div>"
      ],
      "text/plain": [
       "<IPython.core.display.HTML object>"
      ]
     },
     "metadata": {},
     "output_type": "display_data"
    },
    {
     "data": {
      "text/html": [
       "Synced <strong style=\"color:#cdcd00\">warm-bird-74</strong>: <a href=\"https://wandb.ai/anirg99/cs6910-assignment4/runs/2qa8nmv3\" target=\"_blank\">https://wandb.ai/anirg99/cs6910-assignment4/runs/2qa8nmv3</a><br/>Synced 6 W&B file(s), 0 media file(s), 0 artifact file(s) and 0 other file(s)"
      ],
      "text/plain": [
       "<IPython.core.display.HTML object>"
      ]
     },
     "metadata": {},
     "output_type": "display_data"
    },
    {
     "data": {
      "text/html": [
       "Find logs at: <code>.\\wandb\\run-20221007_121517-2qa8nmv3\\logs</code>"
      ],
      "text/plain": [
       "<IPython.core.display.HTML object>"
      ]
     },
     "metadata": {},
     "output_type": "display_data"
    },
    {
     "data": {
      "text/html": [
       "Successfully finished last run (ID:2qa8nmv3). Initializing new run:<br/>"
      ],
      "text/plain": [
       "<IPython.core.display.HTML object>"
      ]
     },
     "metadata": {},
     "output_type": "display_data"
    },
    {
     "data": {
      "text/html": [
       "wandb version 0.13.4 is available!  To upgrade, please run:\n",
       " $ pip install wandb --upgrade"
      ],
      "text/plain": [
       "<IPython.core.display.HTML object>"
      ]
     },
     "metadata": {},
     "output_type": "display_data"
    },
    {
     "data": {
      "text/html": [
       "Tracking run with wandb version 0.13.1"
      ],
      "text/plain": [
       "<IPython.core.display.HTML object>"
      ]
     },
     "metadata": {},
     "output_type": "display_data"
    },
    {
     "data": {
      "text/html": [
       "Run data is saved locally in <code>c:\\Users\\argan\\OneDrive\\Desktop\\DDP\\wandb\\run-20221007_121937-ciwgr009</code>"
      ],
      "text/plain": [
       "<IPython.core.display.HTML object>"
      ]
     },
     "metadata": {},
     "output_type": "display_data"
    },
    {
     "data": {
      "text/html": [
       "Syncing run <strong><a href=\"https://wandb.ai/anirg99/cs6910-assignment4/runs/ciwgr009\" target=\"_blank\">driven-star-75</a></strong> to <a href=\"https://wandb.ai/anirg99/cs6910-assignment4\" target=\"_blank\">Weights & Biases</a> (<a href=\"https://wandb.me/run\" target=\"_blank\">docs</a>)<br/>"
      ],
      "text/plain": [
       "<IPython.core.display.HTML object>"
      ]
     },
     "metadata": {},
     "output_type": "display_data"
    }
   ],
   "source": [
    "logger = wandb.init(project=\"cs6910-assignment4\")"
   ]
  },
  {
   "cell_type": "code",
   "execution_count": 15,
   "metadata": {},
   "outputs": [
    {
     "data": {
      "application/vnd.jupyter.widget-view+json": {
       "model_id": "70a40a46218944bc96dba8d75570886c",
       "version_major": 2,
       "version_minor": 0
      },
      "text/plain": [
       "Training:   0%|          | 0/157 [00:00<?, ?it/s]"
      ]
     },
     "metadata": {},
     "output_type": "display_data"
    },
    {
     "name": "stdout",
     "output_type": "stream",
     "text": [
      "**************************************************\n",
      "End of Epoch 1\n",
      "Validation Loss:0.6933\n",
      "Validation Accuracy:0.4988\n"
     ]
    },
    {
     "data": {
      "application/vnd.jupyter.widget-view+json": {
       "model_id": "fd4d7f2dfcdd430b8fff523144bc994c",
       "version_major": 2,
       "version_minor": 0
      },
      "text/plain": [
       "Training:   0%|          | 0/157 [00:00<?, ?it/s]"
      ]
     },
     "metadata": {},
     "output_type": "display_data"
    },
    {
     "name": "stdout",
     "output_type": "stream",
     "text": [
      "**************************************************\n",
      "End of Epoch 2\n",
      "Validation Loss:0.6931\n",
      "Validation Accuracy:0.513\n"
     ]
    },
    {
     "data": {
      "application/vnd.jupyter.widget-view+json": {
       "model_id": "2688c17d62a74b5fb8d016f2d8f84d5b",
       "version_major": 2,
       "version_minor": 0
      },
      "text/plain": [
       "Training:   0%|          | 0/157 [00:00<?, ?it/s]"
      ]
     },
     "metadata": {},
     "output_type": "display_data"
    },
    {
     "name": "stdout",
     "output_type": "stream",
     "text": [
      "**************************************************\n",
      "End of Epoch 3\n",
      "Validation Loss:0.6591\n",
      "Validation Accuracy:0.66\n"
     ]
    },
    {
     "data": {
      "application/vnd.jupyter.widget-view+json": {
       "model_id": "d4c11436eacb43bb9940c0d31f4ca15e",
       "version_major": 2,
       "version_minor": 0
      },
      "text/plain": [
       "Training:   0%|          | 0/157 [00:00<?, ?it/s]"
      ]
     },
     "metadata": {},
     "output_type": "display_data"
    },
    {
     "name": "stdout",
     "output_type": "stream",
     "text": [
      "**************************************************\n",
      "End of Epoch 4\n",
      "Validation Loss:0.6753\n",
      "Validation Accuracy:0.5539\n"
     ]
    },
    {
     "data": {
      "application/vnd.jupyter.widget-view+json": {
       "model_id": "33aac37aaf744d2095f2f360ff6c378e",
       "version_major": 2,
       "version_minor": 0
      },
      "text/plain": [
       "Training:   0%|          | 0/157 [00:00<?, ?it/s]"
      ]
     },
     "metadata": {},
     "output_type": "display_data"
    },
    {
     "name": "stdout",
     "output_type": "stream",
     "text": [
      "**************************************************\n",
      "End of Epoch 5\n",
      "Validation Loss:0.7137\n",
      "Validation Accuracy:0.5134\n"
     ]
    },
    {
     "data": {
      "application/vnd.jupyter.widget-view+json": {
       "model_id": "dc3d5ec272f242d8a6bcf28b34e6f76e",
       "version_major": 2,
       "version_minor": 0
      },
      "text/plain": [
       "Training:   0%|          | 0/157 [00:00<?, ?it/s]"
      ]
     },
     "metadata": {},
     "output_type": "display_data"
    },
    {
     "name": "stdout",
     "output_type": "stream",
     "text": [
      "**************************************************\n",
      "End of Epoch 6\n",
      "Validation Loss:0.7722\n",
      "Validation Accuracy:0.522\n"
     ]
    },
    {
     "data": {
      "application/vnd.jupyter.widget-view+json": {
       "model_id": "0fbefa3bd9e44195a93c31f888f469bf",
       "version_major": 2,
       "version_minor": 0
      },
      "text/plain": [
       "Training:   0%|          | 0/157 [00:00<?, ?it/s]"
      ]
     },
     "metadata": {},
     "output_type": "display_data"
    },
    {
     "name": "stdout",
     "output_type": "stream",
     "text": [
      "**************************************************\n",
      "End of Epoch 7\n",
      "Validation Loss:0.9253\n",
      "Validation Accuracy:0.5212\n"
     ]
    },
    {
     "data": {
      "application/vnd.jupyter.widget-view+json": {
       "model_id": "9cf0415f62644464bccb9d3a55c2cfeb",
       "version_major": 2,
       "version_minor": 0
      },
      "text/plain": [
       "Training:   0%|          | 0/157 [00:00<?, ?it/s]"
      ]
     },
     "metadata": {},
     "output_type": "display_data"
    },
    {
     "name": "stdout",
     "output_type": "stream",
     "text": [
      "**************************************************\n",
      "End of Epoch 8\n",
      "Validation Loss:1.019\n",
      "Validation Accuracy:0.4921\n"
     ]
    },
    {
     "data": {
      "application/vnd.jupyter.widget-view+json": {
       "model_id": "c1f41ebad54a4930885f140b6c661542",
       "version_major": 2,
       "version_minor": 0
      },
      "text/plain": [
       "Training:   0%|          | 0/157 [00:00<?, ?it/s]"
      ]
     },
     "metadata": {},
     "output_type": "display_data"
    },
    {
     "name": "stdout",
     "output_type": "stream",
     "text": [
      "**************************************************\n",
      "End of Epoch 9\n",
      "Validation Loss:1.1207\n",
      "Validation Accuracy:0.4902\n"
     ]
    },
    {
     "data": {
      "application/vnd.jupyter.widget-view+json": {
       "model_id": "056691662f1942d3994cea58078a126b",
       "version_major": 2,
       "version_minor": 0
      },
      "text/plain": [
       "Training:   0%|          | 0/157 [00:00<?, ?it/s]"
      ]
     },
     "metadata": {},
     "output_type": "display_data"
    },
    {
     "name": "stdout",
     "output_type": "stream",
     "text": [
      "**************************************************\n",
      "End of Epoch 10\n",
      "Validation Loss:1.0748\n",
      "Validation Accuracy:0.4953\n"
     ]
    },
    {
     "data": {
      "application/vnd.jupyter.widget-view+json": {
       "model_id": "17e1a154c0874b8caf65a0e8a81799c2",
       "version_major": 2,
       "version_minor": 0
      },
      "text/plain": [
       "Training:   0%|          | 0/157 [00:00<?, ?it/s]"
      ]
     },
     "metadata": {},
     "output_type": "display_data"
    },
    {
     "name": "stdout",
     "output_type": "stream",
     "text": [
      "**************************************************\n",
      "End of Epoch 11\n",
      "Validation Loss:1.0082\n",
      "Validation Accuracy:0.4929\n"
     ]
    },
    {
     "data": {
      "application/vnd.jupyter.widget-view+json": {
       "model_id": "29654fe1440a4e73b315f02329c03106",
       "version_major": 2,
       "version_minor": 0
      },
      "text/plain": [
       "Training:   0%|          | 0/157 [00:00<?, ?it/s]"
      ]
     },
     "metadata": {},
     "output_type": "display_data"
    },
    {
     "name": "stdout",
     "output_type": "stream",
     "text": [
      "**************************************************\n",
      "End of Epoch 12\n",
      "Validation Loss:1.2199\n",
      "Validation Accuracy:0.4882\n"
     ]
    },
    {
     "data": {
      "application/vnd.jupyter.widget-view+json": {
       "model_id": "43f3820c47ca426686b44fcd3bd59bc6",
       "version_major": 2,
       "version_minor": 0
      },
      "text/plain": [
       "Training:   0%|          | 0/157 [00:00<?, ?it/s]"
      ]
     },
     "metadata": {},
     "output_type": "display_data"
    },
    {
     "name": "stdout",
     "output_type": "stream",
     "text": [
      "**************************************************\n",
      "End of Epoch 13\n",
      "Validation Loss:1.121\n",
      "Validation Accuracy:0.4796\n"
     ]
    },
    {
     "data": {
      "application/vnd.jupyter.widget-view+json": {
       "model_id": "dd015739c09f4b998429f84c57a9cd30",
       "version_major": 2,
       "version_minor": 0
      },
      "text/plain": [
       "Training:   0%|          | 0/157 [00:00<?, ?it/s]"
      ]
     },
     "metadata": {},
     "output_type": "display_data"
    },
    {
     "name": "stdout",
     "output_type": "stream",
     "text": [
      "**************************************************\n",
      "End of Epoch 14\n",
      "Validation Loss:1.5873\n",
      "Validation Accuracy:0.4898\n"
     ]
    },
    {
     "data": {
      "application/vnd.jupyter.widget-view+json": {
       "model_id": "c55e1ca6c63e44d6924e5f486affa231",
       "version_major": 2,
       "version_minor": 0
      },
      "text/plain": [
       "Training:   0%|          | 0/157 [00:00<?, ?it/s]"
      ]
     },
     "metadata": {},
     "output_type": "display_data"
    },
    {
     "name": "stdout",
     "output_type": "stream",
     "text": [
      "**************************************************\n",
      "End of Epoch 15\n",
      "Validation Loss:2.9343\n",
      "Validation Accuracy:0.498\n"
     ]
    },
    {
     "data": {
      "application/vnd.jupyter.widget-view+json": {
       "model_id": "5729a2b3b7f342bbb159b2c2514e7cd7",
       "version_major": 2,
       "version_minor": 0
      },
      "text/plain": [
       "Training:   0%|          | 0/157 [00:00<?, ?it/s]"
      ]
     },
     "metadata": {},
     "output_type": "display_data"
    },
    {
     "name": "stdout",
     "output_type": "stream",
     "text": [
      "**************************************************\n",
      "End of Epoch 16\n",
      "Validation Loss:1.7311\n",
      "Validation Accuracy:0.4839\n"
     ]
    },
    {
     "data": {
      "application/vnd.jupyter.widget-view+json": {
       "model_id": "6998531046b14a199359a42bc1310530",
       "version_major": 2,
       "version_minor": 0
      },
      "text/plain": [
       "Training:   0%|          | 0/157 [00:00<?, ?it/s]"
      ]
     },
     "metadata": {},
     "output_type": "display_data"
    },
    {
     "name": "stdout",
     "output_type": "stream",
     "text": [
      "**************************************************\n",
      "End of Epoch 17\n",
      "Validation Loss:2.1324\n",
      "Validation Accuracy:0.478\n"
     ]
    },
    {
     "data": {
      "application/vnd.jupyter.widget-view+json": {
       "model_id": "bd851805d6314aa7b8ffa200552aa08f",
       "version_major": 2,
       "version_minor": 0
      },
      "text/plain": [
       "Training:   0%|          | 0/157 [00:00<?, ?it/s]"
      ]
     },
     "metadata": {},
     "output_type": "display_data"
    },
    {
     "name": "stdout",
     "output_type": "stream",
     "text": [
      "**************************************************\n",
      "End of Epoch 18\n",
      "Validation Loss:2.6364\n",
      "Validation Accuracy:0.4642\n"
     ]
    },
    {
     "data": {
      "application/vnd.jupyter.widget-view+json": {
       "model_id": "04b393ccc41c40febbd3d6e959051e90",
       "version_major": 2,
       "version_minor": 0
      },
      "text/plain": [
       "Training:   0%|          | 0/157 [00:00<?, ?it/s]"
      ]
     },
     "metadata": {},
     "output_type": "display_data"
    },
    {
     "name": "stdout",
     "output_type": "stream",
     "text": [
      "**************************************************\n",
      "End of Epoch 19\n",
      "Validation Loss:2.7287\n",
      "Validation Accuracy:0.487\n"
     ]
    },
    {
     "data": {
      "application/vnd.jupyter.widget-view+json": {
       "model_id": "f276f92c138c4639adfca71c41439c10",
       "version_major": 2,
       "version_minor": 0
      },
      "text/plain": [
       "Training:   0%|          | 0/157 [00:00<?, ?it/s]"
      ]
     },
     "metadata": {},
     "output_type": "display_data"
    },
    {
     "name": "stdout",
     "output_type": "stream",
     "text": [
      "**************************************************\n",
      "End of Epoch 20\n",
      "Validation Loss:2.2616\n",
      "Validation Accuracy:0.4752\n"
     ]
    },
    {
     "data": {
      "application/vnd.jupyter.widget-view+json": {
       "model_id": "8dd3ee01ba7048538aafa0f981029abf",
       "version_major": 2,
       "version_minor": 0
      },
      "text/plain": [
       "Training:   0%|          | 0/157 [00:00<?, ?it/s]"
      ]
     },
     "metadata": {},
     "output_type": "display_data"
    },
    {
     "name": "stdout",
     "output_type": "stream",
     "text": [
      "**************************************************\n",
      "End of Epoch 21\n",
      "Validation Loss:3.6809\n",
      "Validation Accuracy:0.4882\n"
     ]
    },
    {
     "data": {
      "application/vnd.jupyter.widget-view+json": {
       "model_id": "4f82e3494a794f77b9603d67c3c0b2f5",
       "version_major": 2,
       "version_minor": 0
      },
      "text/plain": [
       "Training:   0%|          | 0/157 [00:00<?, ?it/s]"
      ]
     },
     "metadata": {},
     "output_type": "display_data"
    },
    {
     "name": "stdout",
     "output_type": "stream",
     "text": [
      "**************************************************\n",
      "End of Epoch 22\n",
      "Validation Loss:3.2465\n",
      "Validation Accuracy:0.4866\n"
     ]
    },
    {
     "data": {
      "application/vnd.jupyter.widget-view+json": {
       "model_id": "a9294e00e6b74a089ad1a6e41940a2cb",
       "version_major": 2,
       "version_minor": 0
      },
      "text/plain": [
       "Training:   0%|          | 0/157 [00:00<?, ?it/s]"
      ]
     },
     "metadata": {},
     "output_type": "display_data"
    },
    {
     "name": "stdout",
     "output_type": "stream",
     "text": [
      "**************************************************\n",
      "End of Epoch 23\n",
      "Validation Loss:2.5821\n",
      "Validation Accuracy:0.5051\n"
     ]
    },
    {
     "data": {
      "application/vnd.jupyter.widget-view+json": {
       "model_id": "334c8218c27844f4ba1553bdf6b8eef1",
       "version_major": 2,
       "version_minor": 0
      },
      "text/plain": [
       "Training:   0%|          | 0/157 [00:00<?, ?it/s]"
      ]
     },
     "metadata": {},
     "output_type": "display_data"
    },
    {
     "name": "stdout",
     "output_type": "stream",
     "text": [
      "**************************************************\n",
      "End of Epoch 24\n",
      "Validation Loss:2.5857\n",
      "Validation Accuracy:0.5098\n"
     ]
    },
    {
     "data": {
      "application/vnd.jupyter.widget-view+json": {
       "model_id": "87f39bfcc88a48e0b503ad75799c209a",
       "version_major": 2,
       "version_minor": 0
      },
      "text/plain": [
       "Training:   0%|          | 0/157 [00:00<?, ?it/s]"
      ]
     },
     "metadata": {},
     "output_type": "display_data"
    },
    {
     "name": "stdout",
     "output_type": "stream",
     "text": [
      "**************************************************\n",
      "End of Epoch 25\n",
      "Validation Loss:4.5531\n",
      "Validation Accuracy:0.5145\n"
     ]
    },
    {
     "data": {
      "application/vnd.jupyter.widget-view+json": {
       "model_id": "edf6cff118304bfdb8d5e5312f7add5e",
       "version_major": 2,
       "version_minor": 0
      },
      "text/plain": [
       "Training:   0%|          | 0/157 [00:00<?, ?it/s]"
      ]
     },
     "metadata": {},
     "output_type": "display_data"
    },
    {
     "name": "stdout",
     "output_type": "stream",
     "text": [
      "**************************************************\n",
      "End of Epoch 26\n",
      "Validation Loss:4.2326\n",
      "Validation Accuracy:0.5075\n"
     ]
    },
    {
     "data": {
      "application/vnd.jupyter.widget-view+json": {
       "model_id": "90c0afc939214d94b1017130bad1913a",
       "version_major": 2,
       "version_minor": 0
      },
      "text/plain": [
       "Training:   0%|          | 0/157 [00:00<?, ?it/s]"
      ]
     },
     "metadata": {},
     "output_type": "display_data"
    },
    {
     "name": "stdout",
     "output_type": "stream",
     "text": [
      "**************************************************\n",
      "End of Epoch 27\n",
      "Validation Loss:4.2264\n",
      "Validation Accuracy:0.5212\n"
     ]
    },
    {
     "data": {
      "application/vnd.jupyter.widget-view+json": {
       "model_id": "21a19731237a46f6977c335a318cf61e",
       "version_major": 2,
       "version_minor": 0
      },
      "text/plain": [
       "Training:   0%|          | 0/157 [00:00<?, ?it/s]"
      ]
     },
     "metadata": {},
     "output_type": "display_data"
    },
    {
     "name": "stdout",
     "output_type": "stream",
     "text": [
      "**************************************************\n",
      "End of Epoch 28\n",
      "Validation Loss:5.6755\n",
      "Validation Accuracy:0.5421\n"
     ]
    },
    {
     "data": {
      "application/vnd.jupyter.widget-view+json": {
       "model_id": "2990916f7b7d4bfebad85282ef7ab698",
       "version_major": 2,
       "version_minor": 0
      },
      "text/plain": [
       "Training:   0%|          | 0/157 [00:00<?, ?it/s]"
      ]
     },
     "metadata": {},
     "output_type": "display_data"
    },
    {
     "name": "stdout",
     "output_type": "stream",
     "text": [
      "**************************************************\n",
      "End of Epoch 29\n",
      "Validation Loss:6.1988\n",
      "Validation Accuracy:0.5098\n"
     ]
    },
    {
     "data": {
      "application/vnd.jupyter.widget-view+json": {
       "model_id": "fbf950b9dd86413d87a230d63d6e054f",
       "version_major": 2,
       "version_minor": 0
      },
      "text/plain": [
       "Training:   0%|          | 0/157 [00:00<?, ?it/s]"
      ]
     },
     "metadata": {},
     "output_type": "display_data"
    },
    {
     "name": "stdout",
     "output_type": "stream",
     "text": [
      "**************************************************\n",
      "End of Epoch 30\n",
      "Validation Loss:7.3955\n",
      "Validation Accuracy:0.5153\n"
     ]
    }
   ],
   "source": [
    "batch_loss, val_loss = train_test(siamese_net, \n",
    "                                  30, \n",
    "                                  train_loader, \n",
    "                                  val_loader, \n",
    "                                  optimizer,\n",
    "                                  criterion,\n",
    "                                  logger\n",
    "                                 )"
   ]
  },
  {
   "cell_type": "code",
   "execution_count": 12,
   "metadata": {},
   "outputs": [],
   "source": [
    "torch.save(siamese_net, \"C:\\\\Users\\\\argan\\\\OneDrive\\\\Desktop\\\\DDP\\\\Models\\\\24_64_32_16_WD_3e-6.pkl\")"
   ]
  }
 ],
 "metadata": {
  "kernelspec": {
   "display_name": "Python 3.8.13 ('ddp')",
   "language": "python",
   "name": "python3"
  },
  "language_info": {
   "codemirror_mode": {
    "name": "ipython",
    "version": 3
   },
   "file_extension": ".py",
   "mimetype": "text/x-python",
   "name": "python",
   "nbconvert_exporter": "python",
   "pygments_lexer": "ipython3",
   "version": "3.8.13"
  },
  "orig_nbformat": 4,
  "vscode": {
   "interpreter": {
    "hash": "6c23796a1c2dd51a8797384db4b6b3c42cf1d6cdff572e4ce6333ca4280b9e41"
   }
  }
 },
 "nbformat": 4,
 "nbformat_minor": 2
}
